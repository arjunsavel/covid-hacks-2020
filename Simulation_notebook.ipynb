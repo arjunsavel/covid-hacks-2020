{
 "cells": [
  {
   "cell_type": "code",
   "execution_count": 28,
   "metadata": {},
   "outputs": [],
   "source": [
    "import numpy as np\n",
    "import scipy\n",
    "import pandas as pd\n",
    "import matplotlib.pyplot as plt"
   ]
  },
  {
   "cell_type": "markdown",
   "metadata": {},
   "source": [
    "# Step 1. Naive simulation.\n",
    "- Simulate N bodies\n",
    "- There's a transmission rate \n",
    "- At each time step, all the infected people have some *transmission rate* probability of infecting everyone.\n",
    "- Just tracking rate of *infection* through. Don't worry about death.\n",
    "- 0 dimensional problem"
   ]
  },
  {
   "cell_type": "code",
   "execution_count": 106,
   "metadata": {},
   "outputs": [],
   "source": [
    "# 1 is healthy. 0 is not.\n",
    "def infect(df, trans_rate, day_name): # need to speed up\n",
    "    \"\"\"\n",
    "    Simulates a single day of infection. Each infected person\n",
    "    \n",
    "    NOTE: a 0 counts as infected, while a 1 is healthy.\n",
    "    \n",
    "    Inputs:\n",
    "        df : (pandas DataFrame) object holding all values of infected people. Each\n",
    "                        column of \"infected day _\" corresponds to a different day, \n",
    "                        with \"_\" being some integer or float. The \"name\" column\n",
    "                        assigns a name to each object, independent of index. In\n",
    "                        the infected columns, a 0 counts as infected, while a 1 is \n",
    "                        healthy.\n",
    "        trans_rate : (float) rate of transmission between individuals. infection\n",
    "                        is performed in a probabilistic manner, casting it as a \n",
    "                        draw from a binomial distribution with a rate of \n",
    "                        1 - trans_rate.\n",
    "        day_name : (float or int) the day of this infection, used to create a new\n",
    "                        column in the dataframe tracking the day's infections.\n",
    "                        \n",
    "    Outputs:\n",
    "        df : (pandas DataFrame) object, same as the input, but with a new column\n",
    "                        holding this day's infected results.\n",
    "    \"\"\"\n",
    "    p = 1 - trans_rate # to confer correct healthy/sick convention.\n",
    "    for i in range(len(df)):\n",
    "        if df['infected'][i] == 0.0: # if infected, infect others\n",
    "            infect_col = np.random.binomial(size=len(df), p=p, n=1) # 1 toss, siz\n",
    "            \n",
    "            # next, create a new column to track this day's number of infected individuals\n",
    "            df[f\"infected day {day_name}\"] = df[f\"infected day {day_name - 1}\"] * infect_col\n",
    "    return df\n",
    "\n",
    "def simulate(N, trans_rate, t_steps, N_initial):\n",
    "    \"\"\"\n",
    "    Simulates an infection run.\n",
    "    \n",
    "    Inputs:\n",
    "        N : (int) number of individuals in the system.\n",
    "        trans_rate : (float) rate of transmission between individuals. infection\n",
    "                        is performed in a probabilistic manner, casting it as a \n",
    "                        draw from a binomial distribution with a rate of \n",
    "                        1 - trans_rate.\n",
    "        t_steps : (int) number of time steps (\"days\") to consider.\n",
    "        N_initial : (int) number of initially infected individuals.\n",
    "        \n",
    "    Outputs:\n",
    "         df : (pandas DataFrame) object holding all values of infected people. Each\n",
    "                        column of \"infected day _\" corresponds to a different day, \n",
    "                        with \"_\" being some integer or float. The \"name\" column\n",
    "                        assigns a name to each object, independent of index. In\n",
    "                        the infected columns, a 0 counts as infected, while a 1 is \n",
    "                        healthy. \n",
    "    \"\"\"\n",
    "    # making separate name column because indices get messy. \n",
    "    # other cols later.\n",
    "    d = {'name': np.arange(N), 'infected day 0': np.ones(N)} \n",
    "\n",
    "    df = pd.DataFrame(data=d)\n",
    "    \n",
    "    df.loc[:N_initial, 'infected'] = 0 # Make first N_initial people sick \n",
    "    t = 1\n",
    "    while t < t_steps:\n",
    "        df = infect(df, trans_rate, t)\n",
    "        t += 1\n",
    "    return df\n",
    "        "
   ]
  },
  {
   "cell_type": "code",
   "execution_count": 107,
   "metadata": {},
   "outputs": [
    {
     "name": "stdout",
     "output_type": "stream",
     "text": [
      "CPU times: user 58.4 s, sys: 280 ms, total: 58.7 s\n",
      "Wall time: 59.6 s\n"
     ]
    }
   ],
   "source": [
    "%%time\n",
    "df = simulate(100000, .1, 30, 1)"
   ]
  },
  {
   "cell_type": "code",
   "execution_count": 108,
   "metadata": {},
   "outputs": [
    {
     "data": {
      "text/plain": [
       "Index(['name', 'infected day 0', 'infected', 'infected day 1',\n",
       "       'infected day 2', 'infected day 3', 'infected day 4', 'infected day 5',\n",
       "       'infected day 6', 'infected day 7', 'infected day 8', 'infected day 9',\n",
       "       'infected day 10', 'infected day 11', 'infected day 12',\n",
       "       'infected day 13', 'infected day 14', 'infected day 15',\n",
       "       'infected day 16', 'infected day 17', 'infected day 18',\n",
       "       'infected day 19', 'infected day 20', 'infected day 21',\n",
       "       'infected day 22', 'infected day 23', 'infected day 24',\n",
       "       'infected day 25', 'infected day 26', 'infected day 27',\n",
       "       'infected day 28', 'infected day 29'],\n",
       "      dtype='object')"
      ]
     },
     "execution_count": 108,
     "metadata": {},
     "output_type": "execute_result"
    }
   ],
   "source": [
    "df.columns"
   ]
  },
  {
   "cell_type": "code",
   "execution_count": 115,
   "metadata": {},
   "outputs": [
    {
     "data": {
      "text/plain": [
       "Text(0, 0.5, 'Number of infected individuals')"
      ]
     },
     "execution_count": 115,
     "metadata": {},
     "output_type": "execute_result"
    },
    {
     "data": {
      "image/png": "[encoded data removed]",
      "text/plain": [
       "<Figure size 576x576 with 1 Axes>"
      ]
     },
     "metadata": {
      "needs_background": "light"
     },
     "output_type": "display_data"
    }
   ],
   "source": [
    "plt.figure(figsize=(8,8))\n",
    "infections = np.array([df[col].sum() for col in df.columns if 'infected day' in col])\n",
    "plt.plot(np.arange(len(infections)), 100000 - infections, lw=5, color='maroon')\n",
    "plt.xlabel('Days since patient 0', fontsize=18)\n",
    "plt.ylabel('Number of infected individuals', fontsize=18)\n",
    "# plt.xscale('log')\n",
    "# plt.yscale('log')"
   ]
  },
  {
   "cell_type": "code",
   "execution_count": 97,
   "metadata": {},
   "outputs": [
    {
     "data": {
      "text/plain": [
       "array([1.000e+05, 0.000e+00, 9.987e+03, 9.960e+02, 1.000e+02, 6.000e+00,\n",
       "       0.000e+00, 0.000e+00, 0.000e+00, 0.000e+00, 0.000e+00, 0.000e+00,\n",
       "       0.000e+00, 0.000e+00, 0.000e+00, 0.000e+00, 0.000e+00, 0.000e+00,\n",
       "       0.000e+00, 0.000e+00, 0.000e+00, 0.000e+00, 0.000e+00, 0.000e+00,\n",
       "       0.000e+00, 0.000e+00, 0.000e+00, 0.000e+00, 0.000e+00, 0.000e+00,\n",
       "       0.000e+00])"
      ]
     },
     "execution_count": 97,
     "metadata": {},
     "output_type": "execute_result"
    }
   ],
   "source": [
    "infections"
   ]
  },
  {
   "cell_type": "markdown",
   "metadata": {},
   "source": [
    "# Step 2. 1D simulation\n",
    "- Same as before, but now accounting for *distance* between people\n",
    "- a distance factor, within some certain range, is multiplied to base transmission factor\n",
    "- randomly initialize the N bodies around the origin"
   ]
  },
  {
   "cell_type": "code",
   "execution_count": 120,
   "metadata": {},
   "outputs": [
    {
     "data": {
      "text/plain": [
       "pandas.core.frame.DataFrame"
      ]
     },
     "execution_count": 120,
     "metadata": {},
     "output_type": "execute_result"
    }
   ],
   "source": [
    "pd.core.frame.DataFrame\n"
   ]
  },
  {
   "cell_type": "code",
   "execution_count": 118,
   "metadata": {},
   "outputs": [
    {
     "data": {
      "text/plain": [
       "pandas.core.frame.DataFrame"
      ]
     },
     "execution_count": 118,
     "metadata": {},
     "output_type": "execute_result"
    }
   ],
   "source": [
    "type(df)"
   ]
  },
  {
   "cell_type": "code",
   "execution_count": 116,
   "metadata": {},
   "outputs": [],
   "source": [
    "def distance_multiplier(df, row1, row2, thresh, power):\n",
    "    \"\"\"\n",
    "    returns a distance multiplier based on two individuals, to be smacked \n",
    "    onto the transmission rate, that is always less than 1. \n",
    "    \n",
    "    if the metric distance (defined within) is below thresh, multiplier of 1.\n",
    "    Anything greater falls off as distance to the power law. Power is some law greater than 0.\n",
    "    \n",
    "    Inputs:\n",
    "        df : (pandas DataFrame) object holding all values of infected people. Each\n",
    "                            column of \"infected day _\" corresponds to a different day, \n",
    "                            with \"_\" being some integer or float. The \"name\" column\n",
    "                            assigns a name to each object, independent of index. In\n",
    "                            the infected columns, a 0 counts as infected, while a 1 is \n",
    "                            healthy.\n",
    "        row1 : (int) Greater than 0. Row of the first individual in the distance calculation.\n",
    "        row2 : (int) Greater than 0. Row of the second individual in the distance calculation.\n",
    "        thresh : (float) distance less than which infection is transmitted at the trans_rate;\n",
    "                            that is, less than which this function returns a value of 1. At\n",
    "                            a distance greater than this, this function returns 1/distance^power.\n",
    "        power : (float) Greater than 0. Power to which the multiplier falls off if the distance\n",
    "                            is greater than some threshold.\n",
    "    \n",
    "    Outputs:\n",
    "        multiplier : (float) suppresses the rate of transmission.\n",
    "    \"\"\"\n",
    "    # first check input types\n",
    "    if type(thresh) != int and type(thresh) != float:\n",
    "        raise AssertionError(\"wrong type for thresh.\")\n",
    "    if type(df) != pd.core.frame.DataFrame:\n",
    "        raise AssertionError(\"df must be a pandas DataFrame.\")\n",
    "    if type(row1) != int:\n",
    "        raise AssertionError(\"row1 must be an integer.\")\n",
    "    if type(row2) != int:\n",
    "        raise AssertionError(\"row2 must be an integer.\")\n",
    "    if type(power) != float and type(power) != int:\n",
    "        raise AssertionError(\"power must be a float or integer.\")\n",
    "    \n",
    "        \n",
    "    # first check input values\n",
    "    if thresh <= 0:\n",
    "        raise AssertionError(\"thresh must be positive.\")\n",
    "    if row1 <= 0:\n",
    "        raise AssertionError(\"row1 must be positive.\")\n",
    "    if row2 <= 0:\n",
    "        raise AssertionError(\"row2 must be positive.\")\n",
    "    if power <= 0:\n",
    "        raise AssertionError(\"power must be positive.\")\n",
    "        \n",
    "        \n",
    "    def metric_distance(r1, r2):\n",
    "        return abs(r1 - r2)\n",
    "    r1, r2 = df['r'][row1], df['r'][row2]\n",
    "    dist = metric_distance(r1, r2)\n",
    "    if dist < thresh:\n",
    "        return 1.\n",
    "    else:\n",
    "        return 1/pow(dist, power)\n"
   ]
  },
  {
   "cell_type": "code",
   "execution_count": null,
   "metadata": {},
   "outputs": [],
   "source": []
  }
 ],
 "metadata": {
  "kernelspec": {
   "display_name": "Python 3",
   "language": "python",
   "name": "python3"
  },
  "language_info": {
   "codemirror_mode": {
    "name": "ipython",
    "version": 3
   },
   "file_extension": ".py",
   "mimetype": "text/x-python",
   "name": "python",
   "nbconvert_exporter": "python",
   "pygments_lexer": "ipython3",
   "version": "3.7.6"
  }
 },
 "nbformat": 4,
 "nbformat_minor": 4
}
