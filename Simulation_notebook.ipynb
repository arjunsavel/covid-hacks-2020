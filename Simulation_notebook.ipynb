{
 "cells": [
  {
   "cell_type": "code",
   "execution_count": 28,
   "metadata": {},
   "outputs": [],
   "source": [
    "import numpy as np\n",
    "import scipy\n",
    "import pandas as pd\n",
    "import matplotlib.pyplot as plt"
   ]
  },
  {
   "cell_type": "markdown",
   "metadata": {},
   "source": [
    "# Step 1. Naive simulation.\n",
    "- Simulate N bodies\n",
    "- There's a transmission rate \n",
    "- At each time step, all the infected people have some *transmission rate* probability of infecting everyone.\n",
    "- Just tracking rate of *infection* through. Don't worry about death.\n",
    "- 0 dimensional problem"
   ]
  },
  {
   "cell_type": "code",
   "execution_count": 92,
   "metadata": {},
   "outputs": [],
   "source": [
    "# 1 is healthy. 0 is not.\n",
    "def infect(df, trans_rate, day_name): # need to speed up\n",
    "    p = trans_rate # to confer correct healthy/sick convention.\n",
    "    for i in range(len(df)):\n",
    "        if df['infected'][i] == 0.0: # if infected, infect others\n",
    "            infect_col = np.random.binomial(size=len(df), p=trans_rate, n=1) # 1 toss, siz\n",
    "            df[f\"infected day {day_name}\"] = df[f\"infected day {day_name - 1}\"] * infect_col\n",
    "    return df\n",
    "\n",
    "def simulate(N, trans_rate, t_steps, N_initial):\n",
    "    # making separate name column because indices get messy. \n",
    "    # other cols later.\n",
    "    d = {'name': np.arange(N), 'infected day 0': np.ones(N)} \n",
    "\n",
    "    df = pd.DataFrame(data=d)\n",
    "    \n",
    "    df.loc[:N_initial, 'infected'] = 0 # Make first N_initial people sick \n",
    "    t = 1\n",
    "    while t < t_steps:\n",
    "        df = infect(df, trans_rate, t)\n",
    "        t += 1\n",
    "    return df\n",
    "        "
   ]
  },
  {
   "cell_type": "code",
   "execution_count": 93,
   "metadata": {},
   "outputs": [
    {
     "name": "stdout",
     "output_type": "stream",
     "text": [
      "CPU times: user 1min, sys: 400 ms, total: 1min\n",
      "Wall time: 1min 2s\n"
     ]
    }
   ],
   "source": [
    "%%time\n",
    "df = simulate(100000, .1, 30, 1)"
   ]
  },
  {
   "cell_type": "code",
   "execution_count": null,
   "metadata": {},
   "outputs": [],
   "source": [
    "dc"
   ]
  },
  {
   "cell_type": "code",
   "execution_count": 96,
   "metadata": {},
   "outputs": [
    {
     "data": {
      "text/plain": [
       "Text(0, 0.5, 'Number of infected individuals')"
      ]
     },
     "execution_count": 96,
     "metadata": {},
     "output_type": "execute_result"
    },
    {
     "data": {
      "image/png": "[encoded data removed]",
      "text/plain": [
       "<Figure size 576x576 with 1 Axes>"
      ]
     },
     "metadata": {
      "needs_background": "light"
     },
     "output_type": "display_data"
    }
   ],
   "source": [
    "plt.figure(figsize=(8,8))\n",
    "infections = np.array([df[col].sum() for col in df.columns if 'infected' in col])\n",
    "plt.plot(np.arange(len(infections)), 100000 - infections, lw=5, color='maroon')\n",
    "plt.xlabel('Days since patient 0', fontsize=18)\n",
    "plt.ylabel('Number of infected individuals', fontsize=18)\n",
    "# plt.xscale('log')\n",
    "# plt.yscale('log')"
   ]
  },
  {
   "cell_type": "code",
   "execution_count": 97,
   "metadata": {},
   "outputs": [
    {
     "data": {
      "text/plain": [
       "array([1.000e+05, 0.000e+00, 9.987e+03, 9.960e+02, 1.000e+02, 6.000e+00,\n",
       "       0.000e+00, 0.000e+00, 0.000e+00, 0.000e+00, 0.000e+00, 0.000e+00,\n",
       "       0.000e+00, 0.000e+00, 0.000e+00, 0.000e+00, 0.000e+00, 0.000e+00,\n",
       "       0.000e+00, 0.000e+00, 0.000e+00, 0.000e+00, 0.000e+00, 0.000e+00,\n",
       "       0.000e+00, 0.000e+00, 0.000e+00, 0.000e+00, 0.000e+00, 0.000e+00,\n",
       "       0.000e+00])"
      ]
     },
     "execution_count": 97,
     "metadata": {},
     "output_type": "execute_result"
    }
   ],
   "source": [
    "infections"
   ]
  },
  {
   "cell_type": "code",
   "execution_count": null,
   "metadata": {},
   "outputs": [],
   "source": []
  }
 ],
 "metadata": {
  "kernelspec": {
   "display_name": "Python 3",
   "language": "python",
   "name": "python3"
  },
  "language_info": {
   "codemirror_mode": {
    "name": "ipython",
    "version": 3
   },
   "file_extension": ".py",
   "mimetype": "text/x-python",
   "name": "python",
   "nbconvert_exporter": "python",
   "pygments_lexer": "ipython3",
   "version": "3.7.6"
  }
 },
 "nbformat": 4,
 "nbformat_minor": 4
}
