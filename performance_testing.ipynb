{
 "cells": [
  {
   "cell_type": "markdown",
   "metadata": {},
   "source": [
    "# Outline\n",
    " Benchmarking different approaches will happeb here. Profiling might still happen in the main simulations notebook."
   ]
  },
  {
   "cell_type": "code",
   "execution_count": 1,
   "metadata": {},
   "outputs": [],
   "source": [
    "import numpy as np\n",
    "import scipy\n",
    "import pandas as pd\n",
    "import matplotlib.pyplot as plt\n",
    "import ipdb\n",
    "import ipywidgets as widgets\n",
    "from IPython.display import display\n",
    "from tqdm import tqdm\n",
    "import matplotlib.path as path\n",
    "import matplotlib.patches as patches\n",
    "import matplotlib.animation as animation\n",
    "from IPython.display import HTML\n",
    "from line_profiler import LineProfiler\n",
    "from scipy.spatial.distance import pdist, squareform\n",
    "from sklearn.metrics.pairwise import euclidean_distances\n",
    "from numba import jit\n",
    "\n",
    "np.random.seed(52500)"
   ]
  },
  {
   "cell_type": "markdown",
   "metadata": {},
   "source": [
    "# 1D benchmarking"
   ]
  },
  {
   "cell_type": "code",
   "execution_count": 2,
   "metadata": {},
   "outputs": [],
   "source": [
    "def distance_multiplier(df, r1, r2, thresh, power):\n",
    "    \"\"\"\n",
    "    returns a distance multiplier based on two individuals, to be smacked \n",
    "    onto the transmission rate, that is always less than 1. \n",
    "    \n",
    "    if the metric distance (defined within) is below thresh, multiplier of 1.\n",
    "    Anything greater falls off as distance to the power law. Power is some law greater than 0.\n",
    "    \n",
    "    Inputs:\n",
    "        df : (pandas DataFrame) object holding all values of infected people. Each\n",
    "                            column of \"infected day _\" corresponds to a different day, \n",
    "                            with \"_\" being some integer or float. The \"name\" column\n",
    "                            assigns a name to each object, independent of index. In\n",
    "                            the infected columns, a 0 counts as infected, while a 1 is \n",
    "                            healthy.\n",
    "        r1 : (float) position of first point.\n",
    "        r2 : (float) position of second point.\n",
    "        thresh : (float) distance less than which infection is transmitted at the trans_rate;\n",
    "                            that is, less than which this function returns a value of 1. At\n",
    "                            a distance greater than this, this function returns 1/distance^power.\n",
    "        power : (float) Greater than 0. Power to which the multiplier falls off if the distance\n",
    "                            is greater than some threshold.\n",
    "    \n",
    "    Outputs:\n",
    "        multiplier : (float) suppresses the rate of transmission.\n",
    "    \"\"\"\n",
    "    def metric_distance(r1, r2):\n",
    "        \"\"\"\n",
    "        Returns distance between two points.\n",
    "        \n",
    "        Inputs:\n",
    "            r1 : (float) position of first point.\n",
    "            r2 : (float) position of second point.\n",
    "        \n",
    "        Outputs:\n",
    "            dist : (float) distance between the two points.\n",
    "            \n",
    "        \"\"\"\n",
    "        if type(r1) != float:\n",
    "            raise AssertionError(\"r1 must be a float.\")\n",
    "        if type(r2) != float and type(r2) != np.float64 and type(r2) != np.float32:\n",
    "            raise AssertionError(\"r2 must be a float.\")\n",
    "        \n",
    "        dist = abs(r1 - r2)\n",
    "        return dist\n",
    "    # first check input types\n",
    "    if type(thresh) != int and type(thresh) != float:\n",
    "        raise AssertionError(\"wrong type for thresh.\")\n",
    "    if type(df) != pd.core.frame.DataFrame:\n",
    "        raise AssertionError(\"df must be a pandas DataFrame.\")\n",
    "    if type(r1) != float:\n",
    "        raise AssertionError(\"r1 must be a float.\")\n",
    "\n",
    "    if type(r2) != float and type(r2) != np.float64 and type(r2) != np.float32:\n",
    "        raise AssertionError(\"r2 must be a float.\")\n",
    "    if type(power) != float and type(power) != int:\n",
    "        raise AssertionError(\"power must be a float or integer.\")\n",
    "    \n",
    "        \n",
    "    # first check input values\n",
    "    if thresh <= 0:\n",
    "        raise AssertionError(\"thresh must be positive.\")\n",
    "    if power <= 0:\n",
    "        raise AssertionError(\"power must be positive.\")\n",
    "        \n",
    "    dist = metric_distance(r1, r2)\n",
    "    if dist < thresh:\n",
    "        return 1.\n",
    "    else:\n",
    "        return 1/pow(dist, power)"
   ]
  },
  {
   "cell_type": "code",
   "execution_count": 3,
   "metadata": {},
   "outputs": [],
   "source": [
    "N = 10000\n",
    "name = np.arange(N)\n",
    "distrib_pop = np.random.uniform\n",
    "kwargs_for_pop = {'low':-10, 'high':10}\n",
    "locs = distrib_pop(size=N, **kwargs_for_pop)\n",
    "zero_infected = np.ones(N)\n",
    "d = {'name': np.arange(N), 'infected day 0': zero_infected, 'locs' : locs} \n",
    "\n",
    "df1D_test = pd.DataFrame(data=d)"
   ]
  },
  {
   "cell_type": "code",
   "execution_count": null,
   "metadata": {},
   "outputs": [],
   "source": [
    "%%timeit\n",
    "power = 2\n",
    "thresh = 2\n",
    "\n",
    "r2 = df1D_test['locs'][1]\n",
    "df1D_test['locs'].apply(lambda x:distance_multiplier(df1D_test, x, r2, thresh, power)) "
   ]
  },
  {
   "cell_type": "code",
   "execution_count": null,
   "metadata": {},
   "outputs": [],
   "source": [
    "%%timeit\n",
    "\n",
    "# this is certainly around 25% faster\n",
    "power = 3\n",
    "thresh = 2\n",
    "r2 = df1D_test['locs'][1]\n",
    "df1D_test['subs'] = df1D_test['locs'].apply(lambda x:abs(x - r2))\n",
    "df1D_test['metrics'] = df1D_test['subs'].apply(lambda x:1/pow(x, power) if x > thresh else 1)"
   ]
  },
  {
   "cell_type": "markdown",
   "metadata": {},
   "source": [
    "# 2D benchmarking"
   ]
  },
  {
   "cell_type": "markdown",
   "metadata": {},
   "source": [
    "## 2D distance metric"
   ]
  },
  {
   "cell_type": "code",
   "execution_count": 50,
   "metadata": {},
   "outputs": [],
   "source": [
    "N = 1000000\n",
    "name = np.arange(N)\n",
    "distrib_pop = np.random.uniform\n",
    "kwargs_for_pop = {'low':-10, 'high':10}\n",
    "y = distrib_pop(size=N, **kwargs_for_pop)\n",
    "x = distrib_pop(size=N, **kwargs_for_pop)\n",
    "test = [[1,2],[2,3]]\n",
    "zero_infected = np.ones(N)\n",
    "d = {'name': np.arange(N), 'infected day 0': zero_infected, 'x' : x, 'y' : y} \n",
    "\n",
    "df2D_test = pd.DataFrame(data=d)"
   ]
  },
  {
   "cell_type": "code",
   "execution_count": null,
   "metadata": {},
   "outputs": [],
   "source": [
    "%%timeit\n",
    "euclidean_distances(df2D_test[['x', 'y']], df2D_test[['x', 'y']])"
   ]
  },
  {
   "cell_type": "code",
   "execution_count": null,
   "metadata": {},
   "outputs": [],
   "source": [
    "a = euclidean_distances(df2D_test[['x', 'y']], df2D_test[['x', 'y']])\n",
    "a[1]"
   ]
  },
  {
   "cell_type": "code",
   "execution_count": null,
   "metadata": {},
   "outputs": [],
   "source": [
    "%%timeit\n",
    "euclidean_distances([df2D_test['x'], df2D_test['y']], [df2D_test['x'], df2D_test['y']])"
   ]
  },
  {
   "cell_type": "code",
   "execution_count": null,
   "metadata": {},
   "outputs": [],
   "source": [
    "a = euclidean_distances([df2D_test['x'], df2D_test['y']], [df2D_test['x'], df2D_test['y']])\n",
    "a[1]"
   ]
  },
  {
   "cell_type": "code",
   "execution_count": null,
   "metadata": {},
   "outputs": [],
   "source": [
    "%%timeit\n",
    "euclidean_distances([df2D_test['x'].values, df2D_test['y'].values], [df2D_test['x'].values, df2D_test['y'].values])"
   ]
  },
  {
   "cell_type": "code",
   "execution_count": null,
   "metadata": {},
   "outputs": [],
   "source": [
    "a = euclidean_distances([df2D_test['x'].values, df2D_test['y'].values], [df2D_test['x'].values, df2D_test['y'].values])\n",
    "a[1]"
   ]
  },
  {
   "cell_type": "code",
   "execution_count": 14,
   "metadata": {},
   "outputs": [
    {
     "name": "stdout",
     "output_type": "stream",
     "text": [
      "184 µs ± 32.5 µs per loop (mean ± std. dev. of 7 runs, 10000 loops each)\n"
     ]
    }
   ],
   "source": [
    "%%timeit\n",
    "distances = pdist([df2D_test['x'].values, df2D_test['y'].values], metric='euclidean')\n",
    "dist_matrix = squareform(distances)"
   ]
  },
  {
   "cell_type": "code",
   "execution_count": 15,
   "metadata": {},
   "outputs": [
    {
     "data": {
      "text/plain": [
       "array([809.84252975,   0.        ])"
      ]
     },
     "execution_count": 15,
     "metadata": {},
     "output_type": "execute_result"
    }
   ],
   "source": [
    "distances = pdist([df2D_test['x'].values, df2D_test['y'].values], metric='euclidean')\n",
    "a = squareform(distances)\n",
    "a[1]"
   ]
  },
  {
   "cell_type": "code",
   "execution_count": 18,
   "metadata": {},
   "outputs": [
    {
     "name": "stdout",
     "output_type": "stream",
     "text": [
      "3.17 s ± 398 ms per loop (mean ± std. dev. of 7 runs, 1 loop each)\n"
     ]
    }
   ],
   "source": [
    "%%timeit\n",
    "distances = pdist(np.concatenate((test, df2D_test[[\"x\", \"y\"]].values)), metric='euclidean')\n",
    "dist = squareform(distances)"
   ]
  },
  {
   "cell_type": "code",
   "execution_count": null,
   "metadata": {},
   "outputs": [],
   "source": [
    "distances = pdist(np.concatenate((test, df2D_test[[\"x\", \"y\"]].values)), metric='euclidean')\n",
    "a = squareform(distances)\n",
    "a[1]"
   ]
  },
  {
   "cell_type": "markdown",
   "metadata": {},
   "source": [
    "## Testing subtraction stuff"
   ]
  },
  {
   "cell_type": "code",
   "execution_count": 19,
   "metadata": {},
   "outputs": [
    {
     "name": "stdout",
     "output_type": "stream",
     "text": [
      "502 µs ± 92.6 µs per loop (mean ± std. dev. of 7 runs, 1000 loops each)\n"
     ]
    }
   ],
   "source": [
    "%%timeit\n",
    "df2D_test['x'] - 1"
   ]
  },
  {
   "cell_type": "code",
   "execution_count": 20,
   "metadata": {},
   "outputs": [
    {
     "name": "stdout",
     "output_type": "stream",
     "text": [
      "544 µs ± 70.1 µs per loop (mean ± std. dev. of 7 runs, 1000 loops each)\n"
     ]
    }
   ],
   "source": [
    "%%timeit\n",
    "df2D_test['x'].sub(1)"
   ]
  },
  {
   "cell_type": "code",
   "execution_count": 21,
   "metadata": {},
   "outputs": [
    {
     "name": "stdout",
     "output_type": "stream",
     "text": [
      "561 µs ± 71.3 µs per loop (mean ± std. dev. of 7 runs, 1000 loops each)\n"
     ]
    }
   ],
   "source": [
    "%%timeit\n",
    "df2D_test['x']**2"
   ]
  },
  {
   "cell_type": "code",
   "execution_count": 22,
   "metadata": {},
   "outputs": [
    {
     "name": "stdout",
     "output_type": "stream",
     "text": [
      "362 µs ± 98.1 µs per loop (mean ± std. dev. of 7 runs, 1000 loops each)\n"
     ]
    }
   ],
   "source": [
    "%%timeit\n",
    "np.square(df2D_test['x'])"
   ]
  },
  {
   "cell_type": "code",
   "execution_count": 23,
   "metadata": {},
   "outputs": [
    {
     "name": "stdout",
     "output_type": "stream",
     "text": [
      "537 µs ± 110 µs per loop (mean ± std. dev. of 7 runs, 1000 loops each)\n"
     ]
    }
   ],
   "source": [
    "%%timeit\n",
    "np.power(df2D_test['x'], 2)"
   ]
  },
  {
   "cell_type": "code",
   "execution_count": 24,
   "metadata": {},
   "outputs": [
    {
     "name": "stdout",
     "output_type": "stream",
     "text": [
      "695 µs ± 37.4 µs per loop (mean ± std. dev. of 7 runs, 1000 loops each)\n"
     ]
    }
   ],
   "source": [
    "%%timeit\n",
    "np.power(df2D_test['x'].values, 2)"
   ]
  },
  {
   "cell_type": "markdown",
   "metadata": {},
   "source": [
    "## testing cKTTree\n",
    "- don't calculate all the distances\n",
    "- cut off within a certain region"
   ]
  },
  {
   "cell_type": "code",
   "execution_count": null,
   "metadata": {},
   "outputs": [],
   "source": [
    "from scipy.spatial import cKDTree\n",
    "tree = cKDTree(df2D_test[[\"x\", \"y\"]])\n",
    "pairs = tree.query_pairs(2, p=2)   # 50km radius, L2 (Euclidean) norm"
   ]
  },
  {
   "cell_type": "markdown",
   "metadata": {},
   "source": [
    "## Try the smart indexing"
   ]
  },
  {
   "cell_type": "code",
   "execution_count": 6,
   "metadata": {},
   "outputs": [],
   "source": [
    "def distance(frame, ind1, ind2):\n",
    "    x1, y1 = frame['x'].values[ind1], frame['y'].values[ind1]\n",
    "    x2, y2 = frame['x'].values[ind2], frame['y'].values[ind2]\n",
    "    return sqrt((x1-x2)**2 + (y1-y2)**2)"
   ]
  },
  {
   "cell_type": "code",
   "execution_count": 7,
   "metadata": {},
   "outputs": [],
   "source": [
    "from math import sqrt"
   ]
  },
  {
   "cell_type": "code",
   "execution_count": 51,
   "metadata": {},
   "outputs": [
    {
     "data": {
      "text/plain": [
       "879"
      ]
     },
     "execution_count": 51,
     "metadata": {},
     "output_type": "execute_result"
    }
   ],
   "source": [
    "# %%timeit\n",
    "# make empty distance matrix \n",
    "# and then populate the distance matrix if below threshold\n",
    "thresh = 2\n",
    "test_vals = np.round(np.linspace(1, 1000, 100))\n",
    "df2D_test['Rank'] = df2D_test.x.rank() + df2D_test.y.rank()\n",
    "df_sorted = df2D_test.sort_values('Rank', ascending=False).drop('Rank',axis=1)\n",
    "dists = np.array([distance(df_sorted, 100, int(val)) for val in test_vals])\n",
    "farthest_calc = int(test_vals[np.argmin(np.abs(dists - thresh))])\n",
    "farthest_calc"
   ]
  },
  {
   "cell_type": "code",
   "execution_count": 46,
   "metadata": {},
   "outputs": [],
   "source": [
    "# thresh = 2\n",
    "# test_vals = np.round(np.linspace(1, 1000, 100))\n",
    "# df2D_test['Rank'] = df2D_test.x.rank() + df2D_test.y.rank()\n",
    "# df_sorted = df2D_test.sort_values('Rank', ascending=False).drop('Rank',axis=1)\n",
    "# dists = np.array([distance(df_sorted, 100, int(val)) for val in test_vals])\n",
    "# farthest_calc = int(test_vals[np.argmin(np.abs(dists - thresh))])\n",
    "# farthest_calc"
   ]
  },
  {
   "cell_type": "code",
   "execution_count": 152,
   "metadata": {},
   "outputs": [],
   "source": [
    "@jit(nopython=True)\n",
    "def new_where(lst, index):\n",
    "    return np.argwhere(lst == 200)[0][0]"
   ]
  },
  {
   "cell_type": "code",
   "execution_count": 156,
   "metadata": {},
   "outputs": [
    {
     "name": "stdout",
     "output_type": "stream",
     "text": [
      "22.6 ms ± 1.02 ms per loop (mean ± std. dev. of 7 runs, 10 loops each)\n"
     ]
    }
   ],
   "source": [
    "%%timeit\n",
    "\n",
    "# %%cython\n",
    "def do_multiplier(df_sorted, df2D_test):\n",
    "    x = 1.\n",
    "    y = 2.\n",
    "    power=3\n",
    "    thresh = 3\n",
    "    place_in_sorted = new_where(np.array(df_sorted.index), 200)\n",
    "    calc_indices = df_sorted.index[place_in_sorted - np.int(909):place_in_sorted + np.int(909)]\n",
    "    df_calc_x = df2D_test.x[calc_indices]\n",
    "    df_calc_y = df2D_test.y[calc_indices]\n",
    "    dists = np.sqrt((df_calc_x.sub(x))**2 + (df_calc_y.sub(y))**2)\n",
    "    multiplier_col = np.where(dists > thresh, 1/np.power(dists, power), np.ones_like(dists))\n",
    "    return multiplier_col\n",
    "do_multiplier(df_sorted, df2D_test)\n"
   ]
  },
  {
   "cell_type": "code",
   "execution_count": 139,
   "metadata": {},
   "outputs": [],
   "source": [
    "from line_profiler import LineProfiler"
   ]
  },
  {
   "cell_type": "code",
   "execution_count": 142,
   "metadata": {},
   "outputs": [
    {
     "name": "stdout",
     "output_type": "stream",
     "text": [
      " "
     ]
    }
   ],
   "source": [
    "# %%timeit\n",
    "\n",
    "# %%cython\n",
    "def do_multiplier(df_sorted, df2D_test):\n",
    "    x = 1.\n",
    "    y = 2.\n",
    "    power=3\n",
    "    thresh = 3\n",
    "    place_in_sorted = np.argwhere(df_sorted.index == 200)[0][0] # the index in the sorted array\n",
    "    calc_indices = df_sorted.index[place_in_sorted - np.int(909):place_in_sorted + np.int(909)]\n",
    "    df_calc_x = df2D_test.x[calc_indices]\n",
    "    df_calc_y = df2D_test.y[calc_indices]\n",
    "    dists = np.sqrt((df_calc_x.sub(x))**2 + (df_calc_y.sub(y))**2)\n",
    "    multiplier_col = np.where(dists > thresh, 1/np.power(dists, power), np.ones_like(dists))\n",
    "    return multiplier_col\n",
    "%prun do_multiplier(df_sorted, df2D_test)\n",
    "\n"
   ]
  },
  {
   "cell_type": "code",
   "execution_count": 157,
   "metadata": {},
   "outputs": [
    {
     "name": "stdout",
     "output_type": "stream",
     "text": [
      "Timer unit: 1e-06 s\n",
      "\n",
      "Total time: 0.015582 s\n",
      "File: <ipython-input-142-ffe3e877aaa3>\n",
      "Function: do_multiplier at line 4\n",
      "\n",
      "Line #      Hits         Time  Per Hit   % Time  Line Contents\n",
      "==============================================================\n",
      "     4                                           def do_multiplier(df_sorted, df2D_test):\n",
      "     5         1          3.0      3.0      0.0      x = 1.\n",
      "     6         1          2.0      2.0      0.0      y = 2.\n",
      "     7         1          1.0      1.0      0.0      power=3\n",
      "     8         1          0.0      0.0      0.0      thresh = 3\n",
      "     9         1       6792.0   6792.0     43.6      place_in_sorted = np.argwhere(df_sorted.index == 200)[0][0] # the index in the sorted array\n",
      "    10         1        518.0    518.0      3.3      calc_indices = df_sorted.index[place_in_sorted - np.int(909):place_in_sorted + np.int(909)]\n",
      "    11         1       1945.0   1945.0     12.5      df_calc_x = df2D_test.x[calc_indices]\n",
      "    12         1       1904.0   1904.0     12.2      df_calc_y = df2D_test.y[calc_indices]\n",
      "    13         1       3246.0   3246.0     20.8      dists = np.sqrt((df_calc_x.sub(x))**2 + (df_calc_y.sub(y))**2)\n",
      "    14         1       1170.0   1170.0      7.5      multiplier_col = np.where(dists > thresh, 1/np.power(dists, power), np.ones_like(dists))\n",
      "    15         1          1.0      1.0      0.0      return multiplier_col\n",
      "\n"
     ]
    }
   ],
   "source": [
    "lp = LineProfiler()\n",
    "lp_wrapper = lp(do_multiplier)\n",
    "lp_wrapper(df_sorted, df2D_test)\n",
    "lp.print_stats()"
   ]
  },
  {
   "cell_type": "code",
   "execution_count": 218,
   "metadata": {},
   "outputs": [],
   "source": [
    "import itertools as IT\n",
    "import collections\n",
    "\n",
    "def get_indices_simple(data):\n",
    "    return [np.where(data == i) for i in range(0, data.max() + 1)]"
   ]
  },
  {
   "cell_type": "code",
   "execution_count": 123,
   "metadata": {},
   "outputs": [],
   "source": [
    "@jit(nopython=True)\n",
    "def where(df_calc_x, df_calc_y, thresh, power, x, y):\n",
    "    dists = np.sqrt(np.square(df_calc_x - x) + np.square(df_calc_y - y))\n",
    "    return np.where(dists > thresh, np.power(dists, -power), np.ones_like(dists))"
   ]
  },
  {
   "cell_type": "markdown",
   "metadata": {},
   "source": [
    "# This function is the winner!"
   ]
  },
  {
   "cell_type": "code",
   "execution_count": 47,
   "metadata": {},
   "outputs": [],
   "source": [
    "@jit(nopython=True)\n",
    "def find_first(searched, vec):\n",
    "    \"\"\"return the index of the first occurence of item in vec\"\"\"\n",
    "    for i, item in enumerate(vec):\n",
    "        if searched == item:\n",
    "            return i\n",
    "    return -1"
   ]
  },
  {
   "cell_type": "code",
   "execution_count": 48,
   "metadata": {},
   "outputs": [],
   "source": [
    "def do_multiplier(df_sorted, df2D_test):\n",
    "    x = np.float64(1)\n",
    "    y = np.float64(2)\n",
    "    power = np.float64(2)\n",
    "    thresh = np.float64(2)\n",
    "    place_in_sorted = find_first(0.046916200165345145, df_sorted.x.values)\n",
    "    calc_indices = df_sorted.index[place_in_sorted - np.int(900):place_in_sorted + np.int(900)]\n",
    "    df_calc_x = df2D_test.x[calc_indices]\n",
    "    df_calc_y = df2D_test.y[calc_indices]\n",
    "    dists = np.sqrt((df_calc_x.sub(x))**2 + (df_calc_y.sub(y))**2)\n",
    "    multiplier_col = np.where(dists > thresh, np.power(dists, -power), np.ones_like(dists))\n",
    "    return multiplier_col"
   ]
  },
  {
   "cell_type": "code",
   "execution_count": 49,
   "metadata": {},
   "outputs": [
    {
     "name": "stdout",
     "output_type": "stream",
     "text": [
      "3.36 ms ± 336 µs per loop (mean ± std. dev. of 7 runs, 100 loops each)\n"
     ]
    }
   ],
   "source": [
    "%%timeit\n",
    "do_multiplier(df_sorted, df2D_test)"
   ]
  },
  {
   "cell_type": "code",
   "execution_count": 42,
   "metadata": {},
   "outputs": [
    {
     "data": {
      "text/plain": [
       "5.555555555555555"
      ]
     },
     "execution_count": 42,
     "metadata": {},
     "output_type": "execute_result"
    }
   ],
   "source": [
    "4e-3*5e6/(60 * 60)"
   ]
  },
  {
   "cell_type": "code",
   "execution_count": 38,
   "metadata": {},
   "outputs": [
    {
     "name": "stdout",
     "output_type": "stream",
     "text": [
      "Timer unit: 1e-06 s\n",
      "\n",
      "Total time: 0.012079 s\n",
      "File: <ipython-input-36-953f02cecf9e>\n",
      "Function: do_multiplier at line 1\n",
      "\n",
      "Line #      Hits         Time  Per Hit   % Time  Line Contents\n",
      "==============================================================\n",
      "     1                                           def do_multiplier(df_sorted, df2D_test):\n",
      "     2         1          6.0      6.0      0.0      x = np.float64(1)\n",
      "     3         1          2.0      2.0      0.0      y = np.float64(2)\n",
      "     4         1          2.0      2.0      0.0      power = np.float64(2)\n",
      "     5         1          1.0      1.0      0.0      thresh = np.float64(2)\n",
      "     6         1       1248.0   1248.0     10.3      place_in_sorted = find_first(0.046916200165345145, df_sorted.x.values)\n",
      "     7         1        377.0    377.0      3.1      calc_indices = df_sorted.index[place_in_sorted - np.int(900):place_in_sorted + np.int(900)]\n",
      "     8         1       2171.0   2171.0     18.0      df_calc_x = df2D_test.x[calc_indices]\n",
      "     9         1       2678.0   2678.0     22.2      df_calc_y = df2D_test.y[calc_indices]\n",
      "    10         1       4722.0   4722.0     39.1      dists = np.sqrt((df_calc_x.sub(x))**2 + (df_calc_y.sub(y))**2)\n",
      "    11         1        871.0    871.0      7.2      multiplier_col = np.where(dists > thresh, np.power(dists, -power), np.ones_like(dists))\n",
      "    12         1          1.0      1.0      0.0      return multiplier_col\n",
      "\n"
     ]
    }
   ],
   "source": [
    "lp = LineProfiler()\n",
    "lp_wrapper = lp(do_multiplier)\n",
    "lp_wrapper(df_sorted, df2D_test)\n",
    "lp.print_stats()"
   ]
  },
  {
   "cell_type": "code",
   "execution_count": 132,
   "metadata": {},
   "outputs": [
    {
     "name": "stdout",
     "output_type": "stream",
     "text": [
      "13.2 ms ± 933 µs per loop (mean ± std. dev. of 7 runs, 100 loops each)\n"
     ]
    }
   ],
   "source": [
    "%%timeit\n",
    "\n",
    "def do_multiplier(df_sorted, df2D_test):\n",
    "    x = np.float64(1)\n",
    "    y = np.float64(2)\n",
    "    power = np.float64(3)\n",
    "    thresh = np.float64(3)\n",
    "    place_in_sorted = np.int(np.argwhere(df_sorted.index == 100)[0][0]) # the index in the sorted array\n",
    "    calc_indices = df_sorted.index[place_in_sorted - np.int(800):place_in_sorted + np.int(800)]\n",
    "    df_calc_x = df2D_test.x[calc_indices]\n",
    "    df_calc_y = df2D_test.y[calc_indices]\n",
    "    dists = np.sqrt(np.square(df_calc_x.sub(x)) + np.square(df_calc_y.sub(y))).values\n",
    "    multiplier_col = np.piecewise(dists, [dists < thresh, dists >= thresh], \n",
    "                                  [lambda x: x, lambda x: 1/np.power(x, power)])\n",
    "    return multiplier_col\n",
    "do_multiplier(df_sorted, df2D_test)"
   ]
  },
  {
   "cell_type": "code",
   "execution_count": 190,
   "metadata": {},
   "outputs": [
    {
     "data": {
      "text/plain": [
       "8.333333333333334"
      ]
     },
     "execution_count": 190,
     "metadata": {},
     "output_type": "execute_result"
    }
   ],
   "source": [
    "(6e-3*5e6) / (60 * 60)"
   ]
  },
  {
   "cell_type": "code",
   "execution_count": 40,
   "metadata": {},
   "outputs": [
    {
     "data": {
      "text/plain": [
       "array([0.00041412, 0.0004219 , 0.00041605, ..., 0.00042614, 0.00042598,\n",
       "       0.00041272])"
      ]
     },
     "execution_count": 40,
     "metadata": {},
     "output_type": "execute_result"
    }
   ],
   "source": [
    "do_multiplier(df_sorted, df2D_test)\n"
   ]
  },
  {
   "cell_type": "code",
   "execution_count": 116,
   "metadata": {},
   "outputs": [
    {
     "data": {
      "text/plain": [
       "8.499999999999998"
      ]
     },
     "execution_count": 116,
     "metadata": {},
     "output_type": "execute_result"
    }
   ],
   "source": [
    "(3.06e-3 * 10e6) / (60 * 60)"
   ]
  },
  {
   "cell_type": "code",
   "execution_count": 100,
   "metadata": {},
   "outputs": [
    {
     "data": {
      "text/plain": [
       "90230"
      ]
     },
     "execution_count": 100,
     "metadata": {},
     "output_type": "execute_result"
    }
   ],
   "source": [
    "place_in_sorted - int(farthest_calc)"
   ]
  },
  {
   "cell_type": "markdown",
   "metadata": {},
   "source": [
    "## testing distance speed\n"
   ]
  },
  {
   "cell_type": "code",
   "execution_count": 133,
   "metadata": {},
   "outputs": [
    {
     "ename": "NameError",
     "evalue": "name 'df_calc_x' is not defined",
     "output_type": "error",
     "traceback": [
      "\u001b[0;31m---------------------------------------------------------------------------\u001b[0m",
      "\u001b[0;31mNameError\u001b[0m                                 Traceback (most recent call last)",
      "\u001b[0;32m<ipython-input-133-697b2c5ea73f>\u001b[0m in \u001b[0;36m<module>\u001b[0;34m\u001b[0m\n\u001b[0;32m----> 1\u001b[0;31m \u001b[0mget_ipython\u001b[0m\u001b[0;34m(\u001b[0m\u001b[0;34m)\u001b[0m\u001b[0;34m.\u001b[0m\u001b[0mrun_cell_magic\u001b[0m\u001b[0;34m(\u001b[0m\u001b[0;34m'timeit'\u001b[0m\u001b[0;34m,\u001b[0m \u001b[0;34m''\u001b[0m\u001b[0;34m,\u001b[0m \u001b[0;34m'dists = np.sqrt(np.square(df_calc_x - x) + np.square(df_calc_y - y))\\n'\u001b[0m\u001b[0;34m)\u001b[0m\u001b[0;34m\u001b[0m\u001b[0;34m\u001b[0m\u001b[0m\n\u001b[0m",
      "\u001b[0;32m~/opt/miniconda3/lib/python3.7/site-packages/IPython/core/interactiveshell.py\u001b[0m in \u001b[0;36mrun_cell_magic\u001b[0;34m(self, magic_name, line, cell)\u001b[0m\n\u001b[1;32m   2360\u001b[0m             \u001b[0;32mwith\u001b[0m \u001b[0mself\u001b[0m\u001b[0;34m.\u001b[0m\u001b[0mbuiltin_trap\u001b[0m\u001b[0;34m:\u001b[0m\u001b[0;34m\u001b[0m\u001b[0;34m\u001b[0m\u001b[0m\n\u001b[1;32m   2361\u001b[0m                 \u001b[0margs\u001b[0m \u001b[0;34m=\u001b[0m \u001b[0;34m(\u001b[0m\u001b[0mmagic_arg_s\u001b[0m\u001b[0;34m,\u001b[0m \u001b[0mcell\u001b[0m\u001b[0;34m)\u001b[0m\u001b[0;34m\u001b[0m\u001b[0;34m\u001b[0m\u001b[0m\n\u001b[0;32m-> 2362\u001b[0;31m                 \u001b[0mresult\u001b[0m \u001b[0;34m=\u001b[0m \u001b[0mfn\u001b[0m\u001b[0;34m(\u001b[0m\u001b[0;34m*\u001b[0m\u001b[0margs\u001b[0m\u001b[0;34m,\u001b[0m \u001b[0;34m**\u001b[0m\u001b[0mkwargs\u001b[0m\u001b[0;34m)\u001b[0m\u001b[0;34m\u001b[0m\u001b[0;34m\u001b[0m\u001b[0m\n\u001b[0m\u001b[1;32m   2363\u001b[0m             \u001b[0;32mreturn\u001b[0m \u001b[0mresult\u001b[0m\u001b[0;34m\u001b[0m\u001b[0;34m\u001b[0m\u001b[0m\n\u001b[1;32m   2364\u001b[0m \u001b[0;34m\u001b[0m\u001b[0m\n",
      "\u001b[0;32m<decorator-gen-60>\u001b[0m in \u001b[0;36mtimeit\u001b[0;34m(self, line, cell, local_ns)\u001b[0m\n",
      "\u001b[0;32m~/opt/miniconda3/lib/python3.7/site-packages/IPython/core/magic.py\u001b[0m in \u001b[0;36m<lambda>\u001b[0;34m(f, *a, **k)\u001b[0m\n\u001b[1;32m    185\u001b[0m     \u001b[0;31m# but it's overkill for just that one bit of state.\u001b[0m\u001b[0;34m\u001b[0m\u001b[0;34m\u001b[0m\u001b[0;34m\u001b[0m\u001b[0m\n\u001b[1;32m    186\u001b[0m     \u001b[0;32mdef\u001b[0m \u001b[0mmagic_deco\u001b[0m\u001b[0;34m(\u001b[0m\u001b[0marg\u001b[0m\u001b[0;34m)\u001b[0m\u001b[0;34m:\u001b[0m\u001b[0;34m\u001b[0m\u001b[0;34m\u001b[0m\u001b[0m\n\u001b[0;32m--> 187\u001b[0;31m         \u001b[0mcall\u001b[0m \u001b[0;34m=\u001b[0m \u001b[0;32mlambda\u001b[0m \u001b[0mf\u001b[0m\u001b[0;34m,\u001b[0m \u001b[0;34m*\u001b[0m\u001b[0ma\u001b[0m\u001b[0;34m,\u001b[0m \u001b[0;34m**\u001b[0m\u001b[0mk\u001b[0m\u001b[0;34m:\u001b[0m \u001b[0mf\u001b[0m\u001b[0;34m(\u001b[0m\u001b[0;34m*\u001b[0m\u001b[0ma\u001b[0m\u001b[0;34m,\u001b[0m \u001b[0;34m**\u001b[0m\u001b[0mk\u001b[0m\u001b[0;34m)\u001b[0m\u001b[0;34m\u001b[0m\u001b[0;34m\u001b[0m\u001b[0m\n\u001b[0m\u001b[1;32m    188\u001b[0m \u001b[0;34m\u001b[0m\u001b[0m\n\u001b[1;32m    189\u001b[0m         \u001b[0;32mif\u001b[0m \u001b[0mcallable\u001b[0m\u001b[0;34m(\u001b[0m\u001b[0marg\u001b[0m\u001b[0;34m)\u001b[0m\u001b[0;34m:\u001b[0m\u001b[0;34m\u001b[0m\u001b[0;34m\u001b[0m\u001b[0m\n",
      "\u001b[0;32m~/opt/miniconda3/lib/python3.7/site-packages/IPython/core/magics/execution.py\u001b[0m in \u001b[0;36mtimeit\u001b[0;34m(self, line, cell, local_ns)\u001b[0m\n\u001b[1;32m   1158\u001b[0m             \u001b[0;32mfor\u001b[0m \u001b[0mindex\u001b[0m \u001b[0;32min\u001b[0m \u001b[0mrange\u001b[0m\u001b[0;34m(\u001b[0m\u001b[0;36m0\u001b[0m\u001b[0;34m,\u001b[0m \u001b[0;36m10\u001b[0m\u001b[0;34m)\u001b[0m\u001b[0;34m:\u001b[0m\u001b[0;34m\u001b[0m\u001b[0;34m\u001b[0m\u001b[0m\n\u001b[1;32m   1159\u001b[0m                 \u001b[0mnumber\u001b[0m \u001b[0;34m=\u001b[0m \u001b[0;36m10\u001b[0m \u001b[0;34m**\u001b[0m \u001b[0mindex\u001b[0m\u001b[0;34m\u001b[0m\u001b[0;34m\u001b[0m\u001b[0m\n\u001b[0;32m-> 1160\u001b[0;31m                 \u001b[0mtime_number\u001b[0m \u001b[0;34m=\u001b[0m \u001b[0mtimer\u001b[0m\u001b[0;34m.\u001b[0m\u001b[0mtimeit\u001b[0m\u001b[0;34m(\u001b[0m\u001b[0mnumber\u001b[0m\u001b[0;34m)\u001b[0m\u001b[0;34m\u001b[0m\u001b[0;34m\u001b[0m\u001b[0m\n\u001b[0m\u001b[1;32m   1161\u001b[0m                 \u001b[0;32mif\u001b[0m \u001b[0mtime_number\u001b[0m \u001b[0;34m>=\u001b[0m \u001b[0;36m0.2\u001b[0m\u001b[0;34m:\u001b[0m\u001b[0;34m\u001b[0m\u001b[0;34m\u001b[0m\u001b[0m\n\u001b[1;32m   1162\u001b[0m                     \u001b[0;32mbreak\u001b[0m\u001b[0;34m\u001b[0m\u001b[0;34m\u001b[0m\u001b[0m\n",
      "\u001b[0;32m~/opt/miniconda3/lib/python3.7/site-packages/IPython/core/magics/execution.py\u001b[0m in \u001b[0;36mtimeit\u001b[0;34m(self, number)\u001b[0m\n\u001b[1;32m    167\u001b[0m         \u001b[0mgc\u001b[0m\u001b[0;34m.\u001b[0m\u001b[0mdisable\u001b[0m\u001b[0;34m(\u001b[0m\u001b[0;34m)\u001b[0m\u001b[0;34m\u001b[0m\u001b[0;34m\u001b[0m\u001b[0m\n\u001b[1;32m    168\u001b[0m         \u001b[0;32mtry\u001b[0m\u001b[0;34m:\u001b[0m\u001b[0;34m\u001b[0m\u001b[0;34m\u001b[0m\u001b[0m\n\u001b[0;32m--> 169\u001b[0;31m             \u001b[0mtiming\u001b[0m \u001b[0;34m=\u001b[0m \u001b[0mself\u001b[0m\u001b[0;34m.\u001b[0m\u001b[0minner\u001b[0m\u001b[0;34m(\u001b[0m\u001b[0mit\u001b[0m\u001b[0;34m,\u001b[0m \u001b[0mself\u001b[0m\u001b[0;34m.\u001b[0m\u001b[0mtimer\u001b[0m\u001b[0;34m)\u001b[0m\u001b[0;34m\u001b[0m\u001b[0;34m\u001b[0m\u001b[0m\n\u001b[0m\u001b[1;32m    170\u001b[0m         \u001b[0;32mfinally\u001b[0m\u001b[0;34m:\u001b[0m\u001b[0;34m\u001b[0m\u001b[0;34m\u001b[0m\u001b[0m\n\u001b[1;32m    171\u001b[0m             \u001b[0;32mif\u001b[0m \u001b[0mgcold\u001b[0m\u001b[0;34m:\u001b[0m\u001b[0;34m\u001b[0m\u001b[0;34m\u001b[0m\u001b[0m\n",
      "\u001b[0;32m<magic-timeit>\u001b[0m in \u001b[0;36minner\u001b[0;34m(_it, _timer)\u001b[0m\n",
      "\u001b[0;31mNameError\u001b[0m: name 'df_calc_x' is not defined"
     ]
    }
   ],
   "source": [
    "%%timeit\n",
    "dists = np.sqrt(np.square(df_calc_x - x) + np.square(df_calc_y - y))"
   ]
  },
  {
   "cell_type": "code",
   "execution_count": 120,
   "metadata": {},
   "outputs": [
    {
     "name": "stdout",
     "output_type": "stream",
     "text": [
      "823 µs ± 112 µs per loop (mean ± std. dev. of 7 runs, 1000 loops each)\n"
     ]
    }
   ],
   "source": [
    "%%timeit\n",
    "dists = np.sqrt((df_calc_x - x)**2 + (df_calc_y - y)**2)"
   ]
  },
  {
   "cell_type": "code",
   "execution_count": 121,
   "metadata": {},
   "outputs": [
    {
     "name": "stdout",
     "output_type": "stream",
     "text": [
      "755 µs ± 10.3 µs per loop (mean ± std. dev. of 7 runs, 1000 loops each)\n"
     ]
    }
   ],
   "source": [
    "%%timeit\n",
    "dists = np.sqrt((df_calc_x.sub(x))**2 + (df_calc_y.sub(y))**2)"
   ]
  },
  {
   "cell_type": "markdown",
   "metadata": {},
   "source": [
    "## Testing multiplier"
   ]
  },
  {
   "cell_type": "code",
   "execution_count": 125,
   "metadata": {},
   "outputs": [
    {
     "name": "stdout",
     "output_type": "stream",
     "text": [
      "572 µs ± 24.6 µs per loop (mean ± std. dev. of 7 runs, 1000 loops each)\n"
     ]
    }
   ],
   "source": [
    "%%timeit\n",
    "multiplier_col = np.where(dists > thresh, 1/np.power(dists, power), np.ones_like(dists))"
   ]
  },
  {
   "cell_type": "code",
   "execution_count": 126,
   "metadata": {},
   "outputs": [
    {
     "name": "stdout",
     "output_type": "stream",
     "text": [
      "569 µs ± 2.56 µs per loop (mean ± std. dev. of 7 runs, 1000 loops each)\n"
     ]
    }
   ],
   "source": [
    "%%timeit\n",
    "multiplier_col = np.where(np.greater(dists, thresh), 1/np.power(dists, power), np.ones_like(dists))"
   ]
  },
  {
   "cell_type": "markdown",
   "metadata": {},
   "source": [
    "## Faster where"
   ]
  },
  {
   "cell_type": "code",
   "execution_count": 222,
   "metadata": {},
   "outputs": [
    {
     "name": "stdout",
     "output_type": "stream",
     "text": [
      "4.65 ms ± 305 µs per loop (mean ± std. dev. of 7 runs, 100 loops each)\n"
     ]
    }
   ],
   "source": [
    "%timeit np.argwhere(df_sorted.index == 100)[0][0]"
   ]
  },
  {
   "cell_type": "code",
   "execution_count": 231,
   "metadata": {},
   "outputs": [
    {
     "data": {
      "text/plain": [
       "((770146,), 100)"
      ]
     },
     "execution_count": 231,
     "metadata": {},
     "output_type": "execute_result"
    }
   ],
   "source": [
    "next(find(df_sorted.index, lambda arr: arr == 100))"
   ]
  },
  {
   "cell_type": "code",
   "execution_count": 144,
   "metadata": {},
   "outputs": [],
   "source": []
  },
  {
   "cell_type": "code",
   "execution_count": 146,
   "metadata": {},
   "outputs": [
    {
     "name": "stdout",
     "output_type": "stream",
     "text": [
      "7.29 µs ± 87 ns per loop (mean ± std. dev. of 7 runs, 100000 loops each)\n"
     ]
    }
   ],
   "source": [
    "%timeit find_first(9.897408695319996, df_sorted.x.values)"
   ]
  },
  {
   "cell_type": "code",
   "execution_count": 147,
   "metadata": {},
   "outputs": [
    {
     "data": {
      "text/plain": [
       "200"
      ]
     },
     "execution_count": 147,
     "metadata": {},
     "output_type": "execute_result"
    }
   ],
   "source": [
    "find_first(9.897408695319996, df_sorted.x.values)"
   ]
  },
  {
   "cell_type": "code",
   "execution_count": 148,
   "metadata": {},
   "outputs": [
    {
     "data": {
      "text/plain": [
       "True"
      ]
     },
     "execution_count": 148,
     "metadata": {},
     "output_type": "execute_result"
    }
   ],
   "source": [
    "df_sorted.x.values[200] == 9.897408695319996"
   ]
  },
  {
   "cell_type": "code",
   "execution_count": 145,
   "metadata": {},
   "outputs": [
    {
     "data": {
      "text/plain": [
       "3194604"
      ]
     },
     "execution_count": 145,
     "metadata": {},
     "output_type": "execute_result"
    }
   ],
   "source": [
    "find_first(0.9917446504600829, df_sorted.x.values)"
   ]
  },
  {
   "cell_type": "code",
   "execution_count": 141,
   "metadata": {},
   "outputs": [
    {
     "data": {
      "text/plain": [
       "0.9917446504600829"
      ]
     },
     "execution_count": 141,
     "metadata": {},
     "output_type": "execute_result"
    }
   ],
   "source": [
    "df_sorted.x.values[3194604]"
   ]
  },
  {
   "cell_type": "code",
   "execution_count": 48,
   "metadata": {},
   "outputs": [
    {
     "data": {
      "text/plain": [
       "5000000"
      ]
     },
     "execution_count": 48,
     "metadata": {},
     "output_type": "execute_result"
    }
   ],
   "source": [
    "np.searchsorted(df_sorted.x.values, 6., side='right')"
   ]
  },
  {
   "cell_type": "code",
   "execution_count": 59,
   "metadata": {},
   "outputs": [
    {
     "data": {
      "text/plain": [
       "0"
      ]
     },
     "execution_count": 59,
     "metadata": {},
     "output_type": "execute_result"
    }
   ],
   "source": [
    "df_sorted.x.searchsorted(-3)"
   ]
  },
  {
   "cell_type": "code",
   "execution_count": 88,
   "metadata": {},
   "outputs": [
    {
     "name": "stdout",
     "output_type": "stream",
     "text": [
      "12.5 µs ± 525 ns per loop (mean ± std. dev. of 7 runs, 100000 loops each)\n"
     ]
    }
   ],
   "source": [
    "%%timeit\n",
    "e = df_sorted.x.values\n",
    "e.size - np.searchsorted(e[::-1], -1.7136843497278083, side = \"right\")"
   ]
  },
  {
   "cell_type": "code",
   "execution_count": 116,
   "metadata": {},
   "outputs": [
    {
     "data": {
      "text/plain": [
       "1635571"
      ]
     },
     "execution_count": 116,
     "metadata": {},
     "output_type": "execute_result"
    }
   ],
   "source": [
    "e = df_sorted.x\n",
    "np.searchsorted(e[::-1], 0.9917446504600829, side = \"left\")"
   ]
  },
  {
   "cell_type": "code",
   "execution_count": 117,
   "metadata": {},
   "outputs": [
    {
     "data": {
      "text/plain": [
       "-0.8787600990392477"
      ]
     },
     "execution_count": 117,
     "metadata": {},
     "output_type": "execute_result"
    }
   ],
   "source": [
    "df_sorted.x[1635571]"
   ]
  },
  {
   "cell_type": "code",
   "execution_count": 81,
   "metadata": {},
   "outputs": [
    {
     "data": {
      "text/plain": [
       "9.841383311759135"
      ]
     },
     "execution_count": 81,
     "metadata": {},
     "output_type": "execute_result"
    }
   ],
   "source": [
    "df_sorted.x.values[311]"
   ]
  },
  {
   "cell_type": "code",
   "execution_count": 123,
   "metadata": {},
   "outputs": [
    {
     "data": {
      "text/plain": [
       "1602801"
      ]
     },
     "execution_count": 123,
     "metadata": {},
     "output_type": "execute_result"
    }
   ],
   "source": [
    "e.size - df_sorted.x.searchsorted(2)"
   ]
  },
  {
   "cell_type": "code",
   "execution_count": 124,
   "metadata": {},
   "outputs": [
    {
     "data": {
      "text/plain": [
       "5.648708923693695"
      ]
     },
     "execution_count": 124,
     "metadata": {},
     "output_type": "execute_result"
    }
   ],
   "source": [
    "df_sorted.x.values[1602801]"
   ]
  },
  {
   "cell_type": "code",
   "execution_count": 127,
   "metadata": {},
   "outputs": [
    {
     "data": {
      "text/plain": [
       "array([ True, False, False, ...,  True, False, False])"
      ]
     },
     "execution_count": 127,
     "metadata": {},
     "output_type": "execute_result"
    }
   ],
   "source": [
    "np.diff(df_sorted.x)>=0"
   ]
  },
  {
   "cell_type": "code",
   "execution_count": 133,
   "metadata": {},
   "outputs": [
    {
     "data": {
      "text/plain": [
       "<function numpy.searchsorted(a, v, side='left', sorter=None)>"
      ]
     },
     "execution_count": 133,
     "metadata": {},
     "output_type": "execute_result"
    }
   ],
   "source": [
    "np.searchsorted"
   ]
  },
  {
   "cell_type": "markdown",
   "metadata": {},
   "source": [
    "## Testing out square root"
   ]
  },
  {
   "cell_type": "code",
   "execution_count": 53,
   "metadata": {},
   "outputs": [
    {
     "name": "stdout",
     "output_type": "stream",
     "text": [
      "24.6 ms ± 176 µs per loop (mean ± std. dev. of 7 runs, 10 loops each)\n"
     ]
    }
   ],
   "source": [
    "%timeit np.sqrt(df_sorted.x.sub(1)**2 + df_sorted.y.sub(1)**2)"
   ]
  },
  {
   "cell_type": "code",
   "execution_count": 52,
   "metadata": {},
   "outputs": [
    {
     "name": "stdout",
     "output_type": "stream",
     "text": [
      "24.6 ms ± 244 µs per loop (mean ± std. dev. of 7 runs, 10 loops each)\n"
     ]
    }
   ],
   "source": [
    "%timeit (df_sorted.x.sub(1)**2 + df_sorted.y.sub(1)**2).apply(np.sqrt)"
   ]
  },
  {
   "cell_type": "code",
   "execution_count": 58,
   "metadata": {},
   "outputs": [],
   "source": [
    "def f(x):\n",
    "    x1, y1 = x\n",
    "    return sqrt((x1 - 1)**2 + (y1 - 1)**2)"
   ]
  },
  {
   "cell_type": "code",
   "execution_count": 59,
   "metadata": {},
   "outputs": [
    {
     "name": "stdout",
     "output_type": "stream",
     "text": [
      "10.1 s ± 1.3 s per loop (mean ± std. dev. of 7 runs, 1 loop each)\n"
     ]
    }
   ],
   "source": [
    "%timeit df_sorted[['x', 'y']].apply(lambda x: f(x), axis=1)"
   ]
  },
  {
   "cell_type": "code",
   "execution_count": null,
   "metadata": {},
   "outputs": [],
   "source": []
  }
 ],
 "metadata": {
  "kernelspec": {
   "display_name": "Python 3",
   "language": "python",
   "name": "python3"
  },
  "language_info": {
   "codemirror_mode": {
    "name": "ipython",
    "version": 3
   },
   "file_extension": ".py",
   "mimetype": "text/x-python",
   "name": "python",
   "nbconvert_exporter": "python",
   "pygments_lexer": "ipython3",
   "version": "3.7.6"
  }
 },
 "nbformat": 4,
 "nbformat_minor": 4
}
