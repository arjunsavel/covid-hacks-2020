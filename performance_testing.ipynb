{
 "cells": [
  {
   "cell_type": "markdown",
   "metadata": {},
   "source": [
    "# Outline\n",
    " Benchmarking different approaches will happeb here. Profiling might still happen in the main simulations notebook."
   ]
  },
  {
   "cell_type": "code",
   "execution_count": 1,
   "metadata": {},
   "outputs": [],
   "source": [
    "import numpy as np\n",
    "import scipy\n",
    "import pandas as pd\n",
    "import matplotlib.pyplot as plt\n",
    "import ipdb\n",
    "import ipywidgets as widgets\n",
    "from IPython.display import display\n",
    "from tqdm import tqdm\n",
    "import matplotlib.path as path\n",
    "import matplotlib.patches as patches\n",
    "import matplotlib.animation as animation\n",
    "from IPython.display import HTML\n",
    "from line_profiler import LineProfiler\n",
    "from scipy.spatial.distance import pdist, squareform\n",
    "from sklearn.metrics.pairwise import euclidean_distances\n"
   ]
  },
  {
   "cell_type": "markdown",
   "metadata": {},
   "source": [
    "# 1D benchmarking"
   ]
  },
  {
   "cell_type": "code",
   "execution_count": 4,
   "metadata": {},
   "outputs": [],
   "source": [
    "def distance_multiplier(df, r1, r2, thresh, power):\n",
    "    \"\"\"\n",
    "    returns a distance multiplier based on two individuals, to be smacked \n",
    "    onto the transmission rate, that is always less than 1. \n",
    "    \n",
    "    if the metric distance (defined within) is below thresh, multiplier of 1.\n",
    "    Anything greater falls off as distance to the power law. Power is some law greater than 0.\n",
    "    \n",
    "    Inputs:\n",
    "        df : (pandas DataFrame) object holding all values of infected people. Each\n",
    "                            column of \"infected day _\" corresponds to a different day, \n",
    "                            with \"_\" being some integer or float. The \"name\" column\n",
    "                            assigns a name to each object, independent of index. In\n",
    "                            the infected columns, a 0 counts as infected, while a 1 is \n",
    "                            healthy.\n",
    "        r1 : (float) position of first point.\n",
    "        r2 : (float) position of second point.\n",
    "        thresh : (float) distance less than which infection is transmitted at the trans_rate;\n",
    "                            that is, less than which this function returns a value of 1. At\n",
    "                            a distance greater than this, this function returns 1/distance^power.\n",
    "        power : (float) Greater than 0. Power to which the multiplier falls off if the distance\n",
    "                            is greater than some threshold.\n",
    "    \n",
    "    Outputs:\n",
    "        multiplier : (float) suppresses the rate of transmission.\n",
    "    \"\"\"\n",
    "    def metric_distance(r1, r2):\n",
    "        \"\"\"\n",
    "        Returns distance between two points.\n",
    "        \n",
    "        Inputs:\n",
    "            r1 : (float) position of first point.\n",
    "            r2 : (float) position of second point.\n",
    "        \n",
    "        Outputs:\n",
    "            dist : (float) distance between the two points.\n",
    "            \n",
    "        \"\"\"\n",
    "        if type(r1) != float:\n",
    "            raise AssertionError(\"r1 must be a float.\")\n",
    "        if type(r2) != float and type(r2) != np.float64 and type(r2) != np.float32:\n",
    "            raise AssertionError(\"r2 must be a float.\")\n",
    "        \n",
    "        dist = abs(r1 - r2)\n",
    "        return dist\n",
    "    # first check input types\n",
    "    if type(thresh) != int and type(thresh) != float:\n",
    "        raise AssertionError(\"wrong type for thresh.\")\n",
    "    if type(df) != pd.core.frame.DataFrame:\n",
    "        raise AssertionError(\"df must be a pandas DataFrame.\")\n",
    "    if type(r1) != float:\n",
    "        raise AssertionError(\"r1 must be a float.\")\n",
    "\n",
    "    if type(r2) != float and type(r2) != np.float64 and type(r2) != np.float32:\n",
    "        raise AssertionError(\"r2 must be a float.\")\n",
    "    if type(power) != float and type(power) != int:\n",
    "        raise AssertionError(\"power must be a float or integer.\")\n",
    "    \n",
    "        \n",
    "    # first check input values\n",
    "    if thresh <= 0:\n",
    "        raise AssertionError(\"thresh must be positive.\")\n",
    "    if power <= 0:\n",
    "        raise AssertionError(\"power must be positive.\")\n",
    "        \n",
    "    dist = metric_distance(r1, r2)\n",
    "    if dist < thresh:\n",
    "        return 1.\n",
    "    else:\n",
    "        return 1/pow(dist, power)"
   ]
  },
  {
   "cell_type": "code",
   "execution_count": 5,
   "metadata": {},
   "outputs": [],
   "source": [
    "N = 10000\n",
    "name = np.arange(N)\n",
    "distrib_pop = np.random.uniform\n",
    "kwargs_for_pop = {'low':-10, 'high':10}\n",
    "locs = distrib_pop(size=N, **kwargs_for_pop)\n",
    "zero_infected = np.ones(N)\n",
    "d = {'name': np.arange(N), 'infected day 0': zero_infected, 'locs' : locs} \n",
    "\n",
    "df1D_test = pd.DataFrame(data=d)"
   ]
  },
  {
   "cell_type": "code",
   "execution_count": 6,
   "metadata": {},
   "outputs": [
    {
     "name": "stdout",
     "output_type": "stream",
     "text": [
      "115 ms ± 8.58 ms per loop (mean ± std. dev. of 7 runs, 10 loops each)\n"
     ]
    }
   ],
   "source": [
    "%%timeit\n",
    "power = 2\n",
    "thresh = 2\n",
    "\n",
    "r2 = df1D_test['locs'][1]\n",
    "df1D_test['locs'].apply(lambda x:distance_multiplier(df1D_test, x, r2, thresh, power)) "
   ]
  },
  {
   "cell_type": "code",
   "execution_count": null,
   "metadata": {},
   "outputs": [],
   "source": [
    "%%timeit\n",
    "\n",
    "# this is certainly around 25% faster\n",
    "power = 3\n",
    "thresh = 2\n",
    "r2 = df1D_test['locs'][1]\n",
    "df1D_test['subs'] = df1D_test['locs'].apply(lambda x:abs(x - r2))\n",
    "df1D_test['metrics'] = df1D_test['subs'].apply(lambda x:1/pow(x, power) if x > thresh else 1)"
   ]
  },
  {
   "cell_type": "markdown",
   "metadata": {},
   "source": [
    "# 2D benchmarking"
   ]
  },
  {
   "cell_type": "markdown",
   "metadata": {},
   "source": [
    "## 2D distance metric"
   ]
  },
  {
   "cell_type": "code",
   "execution_count": 17,
   "metadata": {},
   "outputs": [],
   "source": [
    "N = 10000\n",
    "name = np.arange(N)\n",
    "distrib_pop = np.random.uniform\n",
    "kwargs_for_pop = {'low':-10, 'high':10}\n",
    "y = distrib_pop(size=N, **kwargs_for_pop)\n",
    "x = distrib_pop(size=N, **kwargs_for_pop)\n",
    "test = [[1,2],[2,3]]\n",
    "zero_infected = np.ones(N)\n",
    "d = {'name': np.arange(N), 'infected day 0': zero_infected, 'x' : x, 'y' : y} \n",
    "\n",
    "df2D_test = pd.DataFrame(data=d)"
   ]
  },
  {
   "cell_type": "code",
   "execution_count": 8,
   "metadata": {},
   "outputs": [
    {
     "name": "stdout",
     "output_type": "stream",
     "text": [
      "2.5 s ± 290 ms per loop (mean ± std. dev. of 7 runs, 1 loop each)\n"
     ]
    }
   ],
   "source": [
    "%%timeit\n",
    "euclidean_distances(df2D_test[['x', 'y']], df2D_test[['x', 'y']])"
   ]
  },
  {
   "cell_type": "code",
   "execution_count": 9,
   "metadata": {},
   "outputs": [
    {
     "data": {
      "text/plain": [
       "array([17.04329012,  0.        , 12.46071423, ...,  2.31653702,\n",
       "       15.47031206, 10.59469593])"
      ]
     },
     "execution_count": 9,
     "metadata": {},
     "output_type": "execute_result"
    }
   ],
   "source": [
    "a = euclidean_distances(df2D_test[['x', 'y']], df2D_test[['x', 'y']])\n",
    "a[1]"
   ]
  },
  {
   "cell_type": "code",
   "execution_count": 10,
   "metadata": {},
   "outputs": [
    {
     "name": "stdout",
     "output_type": "stream",
     "text": [
      "39 ms ± 8.43 ms per loop (mean ± std. dev. of 7 runs, 10 loops each)\n"
     ]
    }
   ],
   "source": [
    "%%timeit\n",
    "euclidean_distances([df2D_test['x'], df2D_test['y']], [df2D_test['x'], df2D_test['y']])"
   ]
  },
  {
   "cell_type": "code",
   "execution_count": 11,
   "metadata": {},
   "outputs": [
    {
     "data": {
      "text/plain": [
       "array([809.84252975,   0.        ])"
      ]
     },
     "execution_count": 11,
     "metadata": {},
     "output_type": "execute_result"
    }
   ],
   "source": [
    "a = euclidean_distances([df2D_test['x'], df2D_test['y']], [df2D_test['x'], df2D_test['y']])\n",
    "a[1]"
   ]
  },
  {
   "cell_type": "code",
   "execution_count": 12,
   "metadata": {},
   "outputs": [
    {
     "name": "stdout",
     "output_type": "stream",
     "text": [
      "962 µs ± 218 µs per loop (mean ± std. dev. of 7 runs, 1000 loops each)\n"
     ]
    }
   ],
   "source": [
    "%%timeit\n",
    "euclidean_distances([df2D_test['x'].values, df2D_test['y'].values], [df2D_test['x'].values, df2D_test['y'].values])"
   ]
  },
  {
   "cell_type": "code",
   "execution_count": 13,
   "metadata": {},
   "outputs": [
    {
     "data": {
      "text/plain": [
       "array([809.84252975,   0.        ])"
      ]
     },
     "execution_count": 13,
     "metadata": {},
     "output_type": "execute_result"
    }
   ],
   "source": [
    "a = euclidean_distances([df2D_test['x'].values, df2D_test['y'].values], [df2D_test['x'].values, df2D_test['y'].values])\n",
    "a[1]"
   ]
  },
  {
   "cell_type": "code",
   "execution_count": 14,
   "metadata": {},
   "outputs": [
    {
     "name": "stdout",
     "output_type": "stream",
     "text": [
      "184 µs ± 32.5 µs per loop (mean ± std. dev. of 7 runs, 10000 loops each)\n"
     ]
    }
   ],
   "source": [
    "%%timeit\n",
    "distances = pdist([df2D_test['x'].values, df2D_test['y'].values], metric='euclidean')\n",
    "dist_matrix = squareform(distances)"
   ]
  },
  {
   "cell_type": "code",
   "execution_count": 15,
   "metadata": {},
   "outputs": [
    {
     "data": {
      "text/plain": [
       "array([809.84252975,   0.        ])"
      ]
     },
     "execution_count": 15,
     "metadata": {},
     "output_type": "execute_result"
    }
   ],
   "source": [
    "distances = pdist([df2D_test['x'].values, df2D_test['y'].values], metric='euclidean')\n",
    "a = squareform(distances)\n",
    "a[1]"
   ]
  },
  {
   "cell_type": "code",
   "execution_count": 18,
   "metadata": {},
   "outputs": [
    {
     "name": "stdout",
     "output_type": "stream",
     "text": [
      "3.17 s ± 398 ms per loop (mean ± std. dev. of 7 runs, 1 loop each)\n"
     ]
    }
   ],
   "source": [
    "%%timeit\n",
    "distances = pdist(np.concatenate((test, df2D_test[[\"x\", \"y\"]].values)), metric='euclidean')\n",
    "dist = squareform(distances)"
   ]
  },
  {
   "cell_type": "code",
   "execution_count": null,
   "metadata": {},
   "outputs": [],
   "source": [
    "distances = pdist(np.concatenate((test, df2D_test[[\"x\", \"y\"]].values)), metric='euclidean')\n",
    "a = squareform(distances)\n",
    "a[1]"
   ]
  },
  {
   "cell_type": "markdown",
   "metadata": {},
   "source": [
    "## Testing subtraction stuff"
   ]
  },
  {
   "cell_type": "code",
   "execution_count": 19,
   "metadata": {},
   "outputs": [
    {
     "name": "stdout",
     "output_type": "stream",
     "text": [
      "502 µs ± 92.6 µs per loop (mean ± std. dev. of 7 runs, 1000 loops each)\n"
     ]
    }
   ],
   "source": [
    "%%timeit\n",
    "df2D_test['x'] - 1"
   ]
  },
  {
   "cell_type": "code",
   "execution_count": 20,
   "metadata": {},
   "outputs": [
    {
     "name": "stdout",
     "output_type": "stream",
     "text": [
      "544 µs ± 70.1 µs per loop (mean ± std. dev. of 7 runs, 1000 loops each)\n"
     ]
    }
   ],
   "source": [
    "%%timeit\n",
    "df2D_test['x'].sub(1)"
   ]
  },
  {
   "cell_type": "code",
   "execution_count": 21,
   "metadata": {},
   "outputs": [
    {
     "name": "stdout",
     "output_type": "stream",
     "text": [
      "561 µs ± 71.3 µs per loop (mean ± std. dev. of 7 runs, 1000 loops each)\n"
     ]
    }
   ],
   "source": [
    "%%timeit\n",
    "df2D_test['x']**2"
   ]
  },
  {
   "cell_type": "code",
   "execution_count": 22,
   "metadata": {},
   "outputs": [
    {
     "name": "stdout",
     "output_type": "stream",
     "text": [
      "362 µs ± 98.1 µs per loop (mean ± std. dev. of 7 runs, 1000 loops each)\n"
     ]
    }
   ],
   "source": [
    "%%timeit\n",
    "np.square(df2D_test['x'])"
   ]
  },
  {
   "cell_type": "code",
   "execution_count": 23,
   "metadata": {},
   "outputs": [
    {
     "name": "stdout",
     "output_type": "stream",
     "text": [
      "537 µs ± 110 µs per loop (mean ± std. dev. of 7 runs, 1000 loops each)\n"
     ]
    }
   ],
   "source": [
    "%%timeit\n",
    "np.power(df2D_test['x'], 2)"
   ]
  },
  {
   "cell_type": "code",
   "execution_count": 24,
   "metadata": {},
   "outputs": [
    {
     "name": "stdout",
     "output_type": "stream",
     "text": [
      "695 µs ± 37.4 µs per loop (mean ± std. dev. of 7 runs, 1000 loops each)\n"
     ]
    }
   ],
   "source": [
    "%%timeit\n",
    "np.power(df2D_test['x'].values, 2)"
   ]
  },
  {
   "cell_type": "markdown",
   "metadata": {},
   "source": [
    "## testing cKTTree\n",
    "- don't calculate all the distances\n",
    "- cut off within a certain region"
   ]
  },
  {
   "cell_type": "code",
   "execution_count": 25,
   "metadata": {},
   "outputs": [],
   "source": [
    "from scipy.spatial import cKDTree\n",
    "tree = cKDTree(df2D_test[[\"x\", \"y\"]])\n",
    "pairs = tree.query_pairs(5, p=2)   # 50km radius, L2 (Euclidean) norm"
   ]
  },
  {
   "cell_type": "code",
   "execution_count": null,
   "metadata": {},
   "outputs": [],
   "source": []
  }
 ],
 "metadata": {
  "kernelspec": {
   "display_name": "Python 3",
   "language": "python",
   "name": "python3"
  },
  "language_info": {
   "codemirror_mode": {
    "name": "ipython",
    "version": 3
   },
   "file_extension": ".py",
   "mimetype": "text/x-python",
   "name": "python",
   "nbconvert_exporter": "python",
   "pygments_lexer": "ipython3",
   "version": "3.7.6"
  }
 },
 "nbformat": 4,
 "nbformat_minor": 4
}
